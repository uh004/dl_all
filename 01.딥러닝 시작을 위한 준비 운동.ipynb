{
 "cells": [
  {
   "cell_type": "markdown",
   "metadata": {},
   "source": [
    "# 1장 해보자! 딥러닝"
   ]
  },
  {
   "cell_type": "markdown",
   "metadata": {},
   "source": [
    "### 1.인공지능? 머신 러닝? 딥러닝?\n",
    "- 인공지능(Artificial Intelligence) > 머신 러닝(Machine Learning) > 딥러닝(Deep Learning)"
   ]
  },
  {
   "cell_type": "markdown",
   "metadata": {},
   "source": [
    "### 2.딥러닝 실행을 위해 필요한 세 가지\n",
    "- 데이터, 컴퓨터, 프로그램\n",
    "1. 데이터: 딥러닝은 데이터를 이용해 예측 또는 판별을 수행 - 사용되는 데이터가 이름표가 달려 있는지에 따라 갈림\n",
    "- 지도 학습(Supervised Learning): 이름표(레이블)가 주어진 데이터를 이용해 그 이름표를 맞히는 것(CNN, RNN 등 학습)\n",
    "- 비지도 학습(Unsupervised Learning): 이름표(레이블)가 없는 데이터를 이용하는 것(GAN, 오토인코더 등)\n",
    "2. 컴퓨터(CPU, GPU): 많은 데이터에 적용하려면 GPU 작업 환경을 추천\n",
    "3. 프로그램: 구글 코랩,VSCODE, 딥러닝 라이브러리 사용"
   ]
  },
  {
   "cell_type": "markdown",
   "metadata": {},
   "source": [
    "# 2장 딥러닝의 핵심 미리 보기"
   ]
  },
  {
   "cell_type": "markdown",
   "metadata": {},
   "source": [
    "### 1. 미지의 일을 예측하는 원리\n",
    "- 머신 러닝: 기존 데이터를 이용해 아직 일어나지 않은 미지의 일을 예측"
   ]
  },
  {
   "cell_type": "markdown",
   "metadata": {},
   "source": [
    "### 2. 딥러닝 코드 실행해 보기\n",
    "- 코랩이나 주피터 노트북 사용"
   ]
  },
  {
   "cell_type": "markdown",
   "metadata": {},
   "source": [
    "### 3. 딥러닝 개괄하기"
   ]
  },
  {
   "cell_type": "code",
   "execution_count": 6,
   "metadata": {},
   "outputs": [],
   "source": [
    "# 1. 환경준비: 딥러닝을 구동하는 데 필요한 라이브러리 호출\n",
    "from tensorflow.keras.models import Sequential\n",
    "from tensorflow.keras.layers import Dense\n",
    "import numpy as np"
   ]
  },
  {
   "cell_type": "code",
   "execution_count": 7,
   "metadata": {},
   "outputs": [],
   "source": [
    "# 2. 데이터를 불러와 사용할 수 있도록 준비\n",
    "data_set = np.loadtxt('data/ThoracicSurgery3.csv', delimiter=',')"
   ]
  },
  {
   "cell_type": "code",
   "execution_count": 8,
   "metadata": {},
   "outputs": [],
   "source": [
    "# 1 ~ 16번째 인덱스 속성 17번째 인덱스 클래스(정답값)\n",
    "X = data_set[:, 0:16]\n",
    "y = data_set[:, 16]"
   ]
  },
  {
   "cell_type": "code",
   "execution_count": 9,
   "metadata": {},
   "outputs": [],
   "source": [
    "# 3. 구조결정: 어떤 딥러닝 구조를 만들 것인가\n",
    "model = Sequential()\n",
    "model.add(Dense(30, input_dim=16, activation='relu'))\n",
    "model.add(Dense(1, activation='sigmoid'))"
   ]
  },
  {
   "cell_type": "code",
   "execution_count": 10,
   "metadata": {},
   "outputs": [
    {
     "name": "stdout",
     "output_type": "stream",
     "text": [
      "Epoch 1/5\n",
      "\u001b[1m30/30\u001b[0m \u001b[32m━━━━━━━━━━━━━━━━━━━━\u001b[0m\u001b[37m\u001b[0m \u001b[1m1s\u001b[0m 957us/step - accuracy: 0.8510 - loss: 4.9127 \n",
      "Epoch 2/5\n",
      "\u001b[1m30/30\u001b[0m \u001b[32m━━━━━━━━━━━━━━━━━━━━\u001b[0m\u001b[37m\u001b[0m \u001b[1m0s\u001b[0m 769us/step - accuracy: 0.8517 - loss: 3.4276\n",
      "Epoch 3/5\n",
      "\u001b[1m30/30\u001b[0m \u001b[32m━━━━━━━━━━━━━━━━━━━━\u001b[0m\u001b[37m\u001b[0m \u001b[1m0s\u001b[0m 795us/step - accuracy: 0.8545 - loss: 1.7315\n",
      "Epoch 4/5\n",
      "\u001b[1m30/30\u001b[0m \u001b[32m━━━━━━━━━━━━━━━━━━━━\u001b[0m\u001b[37m\u001b[0m \u001b[1m0s\u001b[0m 701us/step - accuracy: 0.8242 - loss: 0.6447\n",
      "Epoch 5/5\n",
      "\u001b[1m30/30\u001b[0m \u001b[32m━━━━━━━━━━━━━━━━━━━━\u001b[0m\u001b[37m\u001b[0m \u001b[1m0s\u001b[0m 760us/step - accuracy: 0.8665 - loss: 0.4404\n"
     ]
    }
   ],
   "source": [
    "# 4. 모델 실행: 만든 딥러닝을 실행시키고 결과 확인\n",
    "model.compile(loss='binary_crossentropy', optimizer='adam', metrics=['accuracy'])\n",
    "history = model.fit(X, y, epochs=5, batch_size=16)"
   ]
  },
  {
   "cell_type": "markdown",
   "metadata": {},
   "source": [
    "### 4. 이제부터가 진짜 딥러닝?"
   ]
  },
  {
   "cell_type": "markdown",
   "metadata": {},
   "source": [
    "# 3장 딥러닝을 위한 기초 수학"
   ]
  },
  {
   "cell_type": "markdown",
   "metadata": {},
   "source": [
    "### 1. 일차 함수, 기울기와 y절편\n",
    "1. 함수: 두 집합 사이의 관계를 설명 - 변수 x와 y가 있을 때, x가 변하면 이에 따라 y는 어떤 규칙으로 변하는지 나타냄\n",
    "2. 일차 함수: y가 x에 관한 일차식으로 표현된 경우를 의미 - y = ax + b (a != 0), a = 기울기, b = 절편"
   ]
  },
  {
   "cell_type": "markdown",
   "metadata": {},
   "source": [
    "### 2. 이차 함수와 최솟값\n",
    "1. 이차 함수: y가 x에 대한 이차식으로 표현되는 경우를 의미 - y = ax^2 (a != 0)\n",
    "2. a > 0이면 아래로 볼록한 그래프 - x축 방향으로 p만큼, y축 방향으로 q만큼 이동 - 이때 포물선의 맨 아래에 위치한 지점 최솟값\n",
    "3. 최소값은 최소 제곱법 공식으로 쉽게 찾아냄 - 미분과 기울기 이용"
   ]
  },
  {
   "cell_type": "markdown",
   "metadata": {},
   "source": [
    "### 3. 미분, 순간 변화율과 기울기\n",
    "1. 미분: 딥러닝을 이해하는데 가장 중요한 수학 원리\n",
    "2. y = x^2 그래프 - x축에 있는 한 점 a에 대응하는 y의 값은 a^2 - 이때 a가 오른쪽이나 왼쪽으로 조금씩 이동 - 그러면 이에 따라 y도 조금씩 변화\n",
    "3. 이번에는 a가 미세하게 0에 가까울 만큼 움직임 - 그러면 y 값 역시 매우 미세하기 변화 - 이번에는 너무 미세해서 실제로 움직이는 것이 아니라 방향만 드러내는 순간적인 변화\n",
    "4. 순간 변화율: 위에 내용을 놓고(이 순간의 변화를 놓고)\n",
    "5. 순간 변화율은 어느 쪽으로 향하는지 방향성을 지니고 있으므로 이 방향을 따라 직선을 길게 그려 주면 그래프에 맞닿는 접선이 그려짐\n",
    "6. 이 선이 바로 이 점에서의 (기울기)\n",
    "7. 미분 = 순간 변화율 - 어느 순간에 어떤 변화가 일어나고 있는지 숫자로 나타낸 것을 미분 계수(기울기)\n",
    "8. 이 기울기가 0일때 즉 x축과 평행한 직선으로 그어질 때가바로 그래프에서 최솟값인 지점이 된다.\n",
    "9. 직선 AB의 기울기 = y 값의 증가량 / x 값의 증가량 = f(b) - f(a) / b - a"
   ]
  },
  {
   "cell_type": "markdown",
   "metadata": {},
   "source": [
    "### 4. 편미분\n",
    "1. 편미분: 모든 변수를 미분하는 것이 아니라 우리가 원하는 한 가지 변수만 미분하고 그 외에는 모두 상수로 취급\n",
    "2. f(x,y) = x^2 + yx + a (a는 상수) - 이 중 어떤 변수로 미분해야 하는지 정해야 하므로 편미분을 사용"
   ]
  },
  {
   "cell_type": "markdown",
   "metadata": {},
   "source": [
    "### 5. 지수와 지수 함수\n",
    "1. 지수: a^ㅁ - a를 밑, ㅁ를 지수라고 한다. - a를 ㅁ만큼 반복해서 곱함\n",
    "2. 지수 함수: 변수 x가 지수 자리에 있는 경우를 의미 - y = a^x (a != 1, a > 0) - 지수 함수에서는 밑 값이 무엇인지 중요"
   ]
  },
  {
   "cell_type": "markdown",
   "metadata": {},
   "source": [
    "### 6. 시그모이드 함수\n",
    "1. 딥러닝의 내부는 입력받은 신호를 얼마나 출력할지를 계산하는 과정이 무수히 반복\n",
    "2. 활성화 함수: 이때 출력 값으로 얼마나 내보낼지를 계산하는 함수\n",
    "3. 시그모이드 함수: x가 큰 값을 가지면 f(x)는 1에 가까워지고 x가 작은 값을 가지면 f(x)는 0에 가까워짐\n",
    "4. 이 함수의 속성은 0 또는 1 두 개의 값 중 하나를 고를때 유용"
   ]
  },
  {
   "cell_type": "markdown",
   "metadata": {},
   "source": [
    "### 7. 로그와 로그 함수\n",
    "1. 로그: 이해하려면 먼저 지수부터 이해 해야함 - a를 x만큼 거듭제곱한 값이 b라고 할때 - a^x = b -> log(a)b = x\n",
    "2. 역함수: x와 y를 서로 바꿈 - y = log(a)x"
   ]
  }
 ],
 "metadata": {
  "kernelspec": {
   "display_name": "Python 3",
   "language": "python",
   "name": "python3"
  },
  "language_info": {
   "codemirror_mode": {
    "name": "ipython",
    "version": 3
   },
   "file_extension": ".py",
   "mimetype": "text/x-python",
   "name": "python",
   "nbconvert_exporter": "python",
   "pygments_lexer": "ipython3",
   "version": "3.11.2"
  }
 },
 "nbformat": 4,
 "nbformat_minor": 2
}
